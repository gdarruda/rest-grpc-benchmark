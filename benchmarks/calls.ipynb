{
 "cells": [
  {
   "cell_type": "code",
   "execution_count": null,
   "metadata": {},
   "outputs": [],
   "source": [
    "NUM_SAMPLES = 1_000"
   ]
  },
  {
   "cell_type": "code",
   "execution_count": null,
   "metadata": {},
   "outputs": [],
   "source": [
    "from time import perf_counter\n",
    "\n",
    "def build_execution_time(f):\n",
    "\n",
    "    def execution_time(id_client: str) -> int:\n",
    "        start = perf_counter()\n",
    "        f(id_client)\n",
    "        total_time = perf_counter() - start\n",
    "        return int(total_time * 1_000)\n",
    "    \n",
    "    return execution_time"
   ]
  },
  {
   "cell_type": "code",
   "execution_count": null,
   "metadata": {},
   "outputs": [],
   "source": [
    "import requests\n",
    "\n",
    "def build_rest_call(port: int):\n",
    "    \n",
    "    def rest_request(id_client: str):\n",
    "        requests.get(f\"http://127.0.0.1:{port}/predictions/{id_client}\")\n",
    "\n",
    "    return rest_request\n",
    "\n",
    "rest_fastapi_time = build_execution_time(build_rest_call(3030))\n",
    "rest_warp_time = build_execution_time(build_rest_call(3031))"
   ]
  },
  {
   "cell_type": "code",
   "execution_count": null,
   "metadata": {},
   "outputs": [],
   "source": [
    "import grpc\n",
    "from predictions_pb2_grpc import PredictionsStub\n",
    "from predictions_pb2 import PredictionRequest\n",
    "\n",
    "def build_grpc_call(port: int):\n",
    "\n",
    "    channel = grpc.insecure_channel(f\"127.0.0.1:{port}\")\n",
    "    client = PredictionsStub(channel)\n",
    "\n",
    "    def grpc_request(id_client: str) -> int:\n",
    "        request = PredictionRequest(id_client=id_client)\n",
    "        client.GetPredictions(request)\n",
    "    \n",
    "    return grpc_request\n",
    "\n",
    "grpc_python_time = build_execution_time(build_grpc_call(50051))\n",
    "grpc_golang_time = build_execution_time(build_grpc_call(50052))"
   ]
  },
  {
   "cell_type": "code",
   "execution_count": null,
   "metadata": {},
   "outputs": [],
   "source": [
    "import pandas as pd\n",
    "predictions = pd.read_parquet('dataset-sample.parquet')"
   ]
  },
  {
   "cell_type": "code",
   "execution_count": null,
   "metadata": {},
   "outputs": [],
   "source": [
    "def get_response_time(f) -> list[int]:\n",
    "\n",
    "    return [f(id_client)\n",
    "            for id_client in \n",
    "            predictions['id_client'].sample(NUM_SAMPLES)]"
   ]
  },
  {
   "cell_type": "code",
   "execution_count": null,
   "metadata": {},
   "outputs": [],
   "source": [
    "rest_fastapi_timings = get_response_time(rest_fastapi_time)\n",
    "rest_warp_timings = get_response_time(rest_warp_time)\n",
    "grpc_python_timings = get_response_time(grpc_python_time)\n",
    "grpc_golang_timings = get_response_time(grpc_golang_time)\n",
    "\n",
    "df = pd.DataFrame({'rest (Python)': rest_fastapi_timings,\n",
    "                   'rest (Rust)': rest_warp_timings,\n",
    "                   'grpc (Python)': grpc_python_timings,\n",
    "                   'grpc (Go)': grpc_golang_timings})"
   ]
  },
  {
   "cell_type": "code",
   "execution_count": null,
   "metadata": {},
   "outputs": [],
   "source": [
    "df.to_csv('timings_st.csv')"
   ]
  },
  {
   "cell_type": "code",
   "execution_count": null,
   "metadata": {},
   "outputs": [],
   "source": [
    "from matplotlib import style\n",
    "from matplotlib import rcParams\n",
    "\n",
    "rcParams['figure.figsize'] = 10,10\n",
    "style.use('ggplot')\n",
    "\n",
    "ax = df.plot.box(showfliers=False)\n",
    "ax.set_title(\"Boxplot: tempo das requisições\")\n",
    "ax.set_ylabel(\"Milissegundos\")\n",
    "\n",
    "ax.figure.savefig('boxplot_no_outliers.svg',\n",
    "                  bbox_inches='tight')"
   ]
  },
  {
   "cell_type": "code",
   "execution_count": null,
   "metadata": {},
   "outputs": [],
   "source": [
    "ax = df.plot.box()\n",
    "ax.set_title(\"Boxplot: tempo das requisições\")\n",
    "ax.set_ylabel(\"Milissegundos\")\n",
    "\n",
    "ax.figure.savefig('boxplot_outliers.svg',\n",
    "                  bbox_inches='tight')"
   ]
  },
  {
   "cell_type": "code",
   "execution_count": null,
   "metadata": {},
   "outputs": [],
   "source": [
    "import seaborn as sns\n",
    "\n",
    "ax = sns.histplot(df[df < 100], \n",
    "                  multiple=\"stack\")\n",
    "\n",
    "ax.set_title(\"Histograma: tempo das requisições\")\n",
    "ax.set_xlabel(\"Milissegundos\")\n",
    "ax.set_ylabel(\"Requisições\")\n",
    "\n",
    "ax.figure.savefig('histogram.svg',\n",
    "                  bbox_inches='tight')"
   ]
  },
  {
   "cell_type": "code",
   "execution_count": null,
   "metadata": {},
   "outputs": [],
   "source": [
    "from typing import List\n",
    "from concurrent.futures import ThreadPoolExecutor\n",
    "\n",
    "def build_total_time(f):\n",
    "\n",
    "    def execution_time(id_clients: List[str]) -> int:\n",
    "\n",
    "        start = perf_counter()\n",
    "\n",
    "        with ThreadPoolExecutor(max_workers=100) as executor:\n",
    "            executor.map(f, id_clients)\n",
    "        \n",
    "        total_time = perf_counter() - start\n",
    "        miliseconds = int(total_time * 1_000)\n",
    "        print(f\"Total time: {miliseconds}\")\n",
    "\n",
    "        return miliseconds\n",
    "    \n",
    "\n",
    "    return execution_time\n",
    "\n",
    "def get_batch_time(batch_time,\n",
    "                   num_batches = 20):\n",
    "\n",
    "    print(f\"Function: {batch_time}\")\n",
    "\n",
    "    samples = list(predictions['id_client']\n",
    "                   .sample(NUM_SAMPLES))\n",
    "\n",
    "    return [batch_time(samples)\n",
    "            for _ in range(num_batches)]"
   ]
  },
  {
   "cell_type": "code",
   "execution_count": null,
   "metadata": {},
   "outputs": [],
   "source": [
    "rest_fastapi_timings = get_batch_time(build_total_time(build_rest_call(3030)))\n",
    "rest_warp_timings = get_batch_time(build_total_time(build_rest_call(3031)))\n",
    "grpc_python_timings = get_batch_time(build_total_time(build_grpc_call(50051)))\n",
    "grpc_golang_timings = get_batch_time(build_total_time(build_grpc_call(50052)))\n",
    "\n",
    "df = pd.DataFrame({'rest (Python)': rest_fastapi_timings,\n",
    "                   'rest (Rust)': rest_warp_timings,\n",
    "                   'grpc (Python)': grpc_python_timings,\n",
    "                   'grpc (Go)': grpc_golang_timings})"
   ]
  },
  {
   "cell_type": "code",
   "execution_count": null,
   "metadata": {},
   "outputs": [],
   "source": [
    "df.to_csv('timings_mt.csv')"
   ]
  },
  {
   "cell_type": "code",
   "execution_count": null,
   "metadata": {},
   "outputs": [],
   "source": [
    "ax = sns.histplot(df, \n",
    "                  multiple=\"stack\")\n",
    "\n",
    "ax.set_title(\"Histograma: lote de requisições\")\n",
    "ax.set_xlabel(\"Milissegundos\")\n",
    "ax.set_ylabel(\"Lotes Requisições\")\n",
    "\n",
    "\n",
    "ax.figure.savefig('histogram_batch.svg',\n",
    "                  bbox_inches='tight')"
   ]
  }
 ],
 "metadata": {
  "kernelspec": {
   "display_name": "call-api",
   "language": "python",
   "name": "python3"
  },
  "language_info": {
   "codemirror_mode": {
    "name": "ipython",
    "version": 3
   },
   "file_extension": ".py",
   "mimetype": "text/x-python",
   "name": "python",
   "nbconvert_exporter": "python",
   "pygments_lexer": "ipython3",
   "version": "3.11.2"
  },
  "orig_nbformat": 4
 },
 "nbformat": 4,
 "nbformat_minor": 2
}
